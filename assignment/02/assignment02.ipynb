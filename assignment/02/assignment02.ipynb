{
 "cells": [
  {
   "cell_type": "code",
   "execution_count": 20,
   "metadata": {
    "colab": {
     "base_uri": "https://localhost:8080/",
     "height": 295
    },
    "colab_type": "code",
    "id": "lWR_Ad5e5UYn",
    "outputId": "02f5c4f7-260d-43d1-c1c3-e0f14138619e"
   },
   "outputs": [
    {
     "data": {
      "image/png": "[encoded data removed]",
      "text/plain": [
       "<Figure size 432x288 with 1 Axes>"
      ]
     },
     "metadata": {
      "needs_background": "light"
     },
     "output_type": "display_data"
    }
   ],
   "source": [
    "%matplotlib inline\n",
    "import numpy as np\n",
    "import matplotlib.pyplot as plt\n",
    "\n",
    "a = 0.5 \n",
    "b = -3\n",
    "m = 20\n",
    "sigma_x = 5\n",
    "sigma_y = 2\n",
    "\n",
    "x = np.random.normal(0.0, sigma_x, size = m)\n",
    "y_line = np.zeros(m)\n",
    "for t in range(m):\n",
    "  y_line[t] = a * x[t] + b \n",
    "  y[t] = y_line[t] + np.random.normal(0.0, sigma_y)\n",
    "\n",
    "x_line = [x1 for x1 in range(-15, 16)]\n",
    "y_line = [a * y1 + b for y1 in range(-15, 16)]\n",
    "\n",
    "plt.scatter(x, y, c = 'black')\n",
    "plt.plot(x_line, y_line, c = 'blue')\n",
    "plt.xlabel('x')\n",
    "plt.ylabel('y')\n",
    "plt.title('Input Data')\n",
    "plt.legend(['y = 0.5x-3', 'random data'])\n",
    "plt.grid()\n",
    "plt.show()"
   ]
  },
  {
   "cell_type": "code",
   "execution_count": 23,
   "metadata": {},
   "outputs": [
    {
     "data": {
      "text/latex": [
       "$\\displaystyle \\theta_{0} - 2.13181174047903 \\theta_{1} + 4.52603628187621$"
      ],
      "text/plain": [
       "theta0 - 2.13181174047903*theta1 + 4.52603628187621"
      ]
     },
     "execution_count": 23,
     "metadata": {},
     "output_type": "execute_result"
    }
   ],
   "source": [
    "from sympy import Derivative, symbols, diff\n",
    "\n",
    "#def cost(theta0, theta1):\n",
    "theta0 = symbols('theta0')\n",
    "theta1 = symbols('theta1')\n",
    "sum = 0\n",
    "for i in range(m):\n",
    "    sum += (theta0 + theta1 * x[i] - y[i])**2\n",
    "fx = sum / (2*m)\n",
    "\n",
    "#fprime = Derivative(fx, theta0).doit()\n",
    "fprime = diff(fx, theta0)\n",
    "fprime"
   ]
  },
  {
   "cell_type": "code",
   "execution_count": null,
   "metadata": {},
   "outputs": [],
   "source": []
  },
  {
   "cell_type": "code",
   "execution_count": 19,
   "metadata": {},
   "outputs": [
    {
     "ename": "ValueError",
     "evalue": "The truth value of an array with more than one element is ambiguous. Use a.any() or a.all()",
     "output_type": "error",
     "traceback": [
      "\u001b[0;31m---------------------------------------------------------------------------\u001b[0m",
      "\u001b[0;31mValueError\u001b[0m                                Traceback (most recent call last)",
      "\u001b[0;32m<ipython-input-19-ac54728459d1>\u001b[0m in \u001b[0;36m<module>\u001b[0;34m\u001b[0m\n\u001b[1;32m     27\u001b[0m \u001b[0;34m\u001b[0m\u001b[0m\n\u001b[1;32m     28\u001b[0m     \u001b[0;32mif\u001b[0m \u001b[0mt\u001b[0m\u001b[0;34m>\u001b[0m\u001b[0;36m0\u001b[0m\u001b[0;34m:\u001b[0m\u001b[0;34m\u001b[0m\u001b[0;34m\u001b[0m\u001b[0m\n\u001b[0;32m---> 29\u001b[0;31m         \u001b[0;32mif\u001b[0m \u001b[0;34m(\u001b[0m\u001b[0mjtheta\u001b[0m\u001b[0;34m[\u001b[0m\u001b[0mt\u001b[0m\u001b[0;34m]\u001b[0m \u001b[0;34m-\u001b[0m \u001b[0mjtheta\u001b[0m\u001b[0;34m[\u001b[0m\u001b[0mt\u001b[0m\u001b[0;34m-\u001b[0m\u001b[0;36m1\u001b[0m\u001b[0;34m]\u001b[0m\u001b[0;34m)\u001b[0m \u001b[0;34m==\u001b[0m\u001b[0;36m0\u001b[0m \u001b[0;34m:\u001b[0m\u001b[0;34m\u001b[0m\u001b[0;34m\u001b[0m\u001b[0m\n\u001b[0m\u001b[1;32m     30\u001b[0m             \u001b[0;32mbreak\u001b[0m\u001b[0;34m\u001b[0m\u001b[0;34m\u001b[0m\u001b[0m\n\u001b[1;32m     31\u001b[0m \u001b[0;34m\u001b[0m\u001b[0m\n",
      "\u001b[0;31mValueError\u001b[0m: The truth value of an array with more than one element is ambiguous. Use a.any() or a.all()"
     ]
    }
   ],
   "source": [
    "\n",
    "    \n",
    "theta0 = 1 #initial\n",
    "theta1 = 0 #initial\n",
    "jtheta_sum = 0.0 #before divide by 2*m\n",
    "\n",
    "jtheta = list()\n",
    "iteration = list()\n",
    "\n",
    "learning_rate = 0.1\n",
    "t = 0 #while\n",
    "\n",
    "y_pred = np.arange(m)\n",
    "\n",
    "while True:\n",
    "    for i in range(m):\n",
    "        y_pred[i] = theta0 * x[i] + theta1\n",
    "        jtheta_sum += np.power(y_pred - y, 2)\n",
    "        \n",
    "    jtheta.append(jtheta_sum / (2 * m))\n",
    "    iteration.append(t+1)\n",
    "    \n",
    "    if t>0:\n",
    "        if (jtheta[t] - jtheta[t-1]) ==0 :\n",
    "            break\n",
    "        \n",
    "    t += 1\n",
    "    jtheta_sum = 0.0\n",
    "\n",
    "plt.plot(iteration, jtheta)"
   ]
  },
  {
   "cell_type": "code",
   "execution_count": null,
   "metadata": {},
   "outputs": [],
   "source": []
  }
 ],
 "metadata": {
  "colab": {
   "collapsed_sections": [],
   "name": "assignment02.ipynb",
   "provenance": []
  },
  "kernelspec": {
   "display_name": "Python 3",
   "language": "python",
   "name": "python3"
  },
  "language_info": {
   "codemirror_mode": {
    "name": "ipython",
    "version": 3
   },
   "file_extension": ".py",
   "mimetype": "text/x-python",
   "name": "python",
   "nbconvert_exporter": "python",
   "pygments_lexer": "ipython3",
   "version": "3.7.4"
  }
 },
 "nbformat": 4,
 "nbformat_minor": 1
}
