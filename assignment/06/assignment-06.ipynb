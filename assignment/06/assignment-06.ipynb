{
 "cells": [
  {
   "cell_type": "code",
   "execution_count": 1,
   "metadata": {},
   "outputs": [
    {
     "data": {
      "image/png": "[encoded data removed]",
      "text/plain": [
       "<Figure size 432x288 with 1 Axes>"
      ]
     },
     "metadata": {
      "needs_background": "light"
     },
     "output_type": "display_data"
    }
   ],
   "source": [
    "%matplotlib inline\n",
    "import numpy as np\n",
    "import matplotlib.pyplot as plt\n",
    "\n",
    "data    = np.genfromtxt(\"data-nonlinear.txt\", delimiter=',')\n",
    "\n",
    "pointX  = data[:, 0:1]\n",
    "pointY  = data[:, 1:2]\n",
    "label   = data[:, 2:3]\n",
    "\n",
    "pointX0 = pointX[label == 0]\n",
    "pointY0 = pointY[label == 0]\n",
    "\n",
    "pointX1 = pointX[label == 1]\n",
    "pointY1 = pointY[label == 1]\n",
    "\n",
    "plt.figure()\n",
    "plt.scatter(pointX0, pointY0, c='b')\n",
    "plt.scatter(pointX1, pointY1, c='r')\n",
    "plt.tight_layout()\n",
    "plt.gca().set_aspect('equal', adjustable='box')\n",
    "plt.show()\n"
   ]
  },
  {
   "cell_type": "code",
   "execution_count": 2,
   "metadata": {},
   "outputs": [],
   "source": [
    "m = len(pointX)\n",
    "\n",
    "zero_term = np.ones((1,m))\n",
    "x = pointX.T\n",
    "y = pointY.T\n",
    "xy = x * y\n",
    "x2 = x * x\n",
    "y2 = y * y\n",
    "x3 = x2 * x\n",
    "x2y = xy * x\n",
    "xy2 = xy * y\n",
    "y3 = y2 * y\n",
    "x4 = x2 * x2\n",
    "x3y1 = x3 * y\n",
    "x2y2 = xy * xy\n",
    "x1y3 = xy2 * y\n",
    "y4 = y2 * y2\n",
    "\n",
    "feature = np.concatenate((zero_term, x, y, xy, x2, y2, \n",
    "                          x3, x2y, xy2, y3, x4, x3y1, \n",
    "                          x2y2, x1y3, y4), axis=0)\n",
    "\n",
    "label = label.T\n",
    "\n",
    "learning_rate = 0.03\n",
    "#lamda = 1000\n",
    "\n",
    "theta = np. ones((15, 1))\n",
    "theta[0,0]=20\n",
    "theta[1,0]=5\n",
    "theta[2,0]=5\n",
    "theta[3,0]=1\n",
    "theta[4,0]=10\n",
    "theta[5,0]=10\n",
    "theta[6,0]=1\n",
    "theta[7,0]=1\n",
    "theta[8,0]=1\n",
    "theta[9,0]=1\n",
    "theta[10,0]=1\n",
    "theta[11,0]=1\n",
    "theta[12,0]=1\n",
    "theta[13,0]=1\n",
    "theta[14,0]=1\n",
    "\n",
    "list_theta_00 = list()\n",
    "list_theta_01 = list()\n",
    "list_theta_02 = list()\n",
    "list_theta_03 = list()\n",
    "list_theta_04 = list()\n",
    "\n",
    "list_theta_05 = list()\n",
    "list_theta_06 = list()\n",
    "list_theta_07 = list()\n",
    "list_theta_08 = list()\n",
    "list_theta_09 = list()\n",
    "\n",
    "list_theta_10 = list()\n",
    "list_theta_11 = list()\n",
    "list_theta_12 = list()\n",
    "list_theta_13 = list()\n",
    "list_theta_14 = list()\n",
    "\n",
    "t = 1\n",
    "iteration = list()\n",
    "temp_j_value = 0\n",
    "j_value = list()\n",
    "\n",
    "accuracy_list = list()"
   ]
  },
  {
   "cell_type": "code",
   "execution_count": 3,
   "metadata": {},
   "outputs": [
    {
     "name": "stderr",
     "output_type": "stream",
     "text": [
      "/opt/anaconda3/lib/python3.7/site-packages/ipykernel_launcher.py:8: RuntimeWarning: divide by zero encountered in log\n",
      "  \n",
      "/opt/anaconda3/lib/python3.7/site-packages/ipykernel_launcher.py:5: RuntimeWarning: divide by zero encountered in log\n",
      "  \"\"\"\n",
      "/opt/anaconda3/lib/python3.7/site-packages/ipykernel_launcher.py:5: RuntimeWarning: invalid value encountered in double_scalars\n",
      "  \"\"\"\n"
     ]
    }
   ],
   "source": [
    "while True:\n",
    "    g = (theta.T).dot(feature)\n",
    "    sigmoid = 1 / (1 + np.exp(-g))\n",
    "    \n",
    "    if t>1 and abs(temp_j_value - (-(np.sum((label*np.log(sigmoid))+(1-label)*np.log(1-sigmoid)))/m)) <= 0.000001:\n",
    "        fin_theta = theta\n",
    "        break\n",
    "    temp_j_value = -(np.sum((label*np.log(sigmoid))+(1-label)*np.log(1-sigmoid)))/m\n",
    "    j_value.append(temp_j_value)\n",
    "    iteration.append(t)\n",
    "    #print(t, temp_j_value, '\\n')\n",
    "    t += 1\n",
    "\n",
    "    list_theta_00.append(theta[0,0])\n",
    "    list_theta_01.append(theta[1,0])\n",
    "    list_theta_02.append(theta[2,0])\n",
    "    list_theta_03.append(theta[3,0])\n",
    "    list_theta_04.append(theta[4,0])\n",
    "    list_theta_05.append(theta[5,0])\n",
    "    list_theta_06.append(theta[6,0])\n",
    "    list_theta_07.append(theta[7,0])\n",
    "    list_theta_08.append(theta[8,0])\n",
    "    list_theta_09.append(theta[9,0])\n",
    "    list_theta_10.append(theta[10,0])\n",
    "    list_theta_11.append(theta[11,0])\n",
    "    list_theta_12.append(theta[12,0])\n",
    "    list_theta_13.append(theta[13,0])\n",
    "    list_theta_14.append(theta[14,0])\n",
    "    \n",
    "    pred0 = (theta.T).dot(feature)\n",
    "    pred1 = 1 / (1 + np.exp(-pred0))\n",
    "    for i in range(118):\n",
    "        if (pred1[0,i]>=0.5):\n",
    "            pred1[0,i]=1\n",
    "        else:\n",
    "            pred1[0,i]=0\n",
    "    correct = 0\n",
    "    for i in range(118):\n",
    "        if (pred1[0,i]==label[0,i]):\n",
    "            correct +=1\n",
    "    accuracy = correct / 118\n",
    "    accuracy_list.append(accuracy)\n",
    "    \n",
    "    theta = theta - learning_rate * feature.dot((sigmoid-label).T) / m"
   ]
  },
  {
   "cell_type": "code",
   "execution_count": 4,
   "metadata": {},
   "outputs": [
    {
     "data": {
      "image/png": "[encoded data removed]",
      "text/plain": [
       "<Figure size 576x576 with 1 Axes>"
      ]
     },
     "metadata": {
      "needs_background": "light"
     },
     "output_type": "display_data"
    }
   ],
   "source": [
    "plt.figure(figsize=(8, 8))\n",
    "plt.plot(iteration, j_value, c = 'blue')\n",
    "plt.xlabel('t : iteration')\n",
    "plt.ylabel('cost value')\n",
    "plt.title('3. The training error')\n",
    "#plt.legend(['J(theta)'])\n",
    "plt.grid()\n",
    "plt.show()"
   ]
  },
  {
   "cell_type": "code",
   "execution_count": 5,
   "metadata": {},
   "outputs": [
    {
     "data": {
      "image/png": "[encoded data removed]",
      "text/plain": [
       "<Figure size 576x576 with 1 Axes>"
      ]
     },
     "metadata": {
      "needs_background": "light"
     },
     "output_type": "display_data"
    }
   ],
   "source": [
    "plt.figure(figsize=(8, 8))\n",
    "plt.plot(iteration, accuracy_list, c = 'red')\n",
    "plt.xlabel('t : iteration')\n",
    "#plt.ylabel('cost value')\n",
    "#plt.title('3. The training error')\n",
    "#plt.legend(['J(theta)'])\n",
    "plt.grid()\n",
    "plt.show()"
   ]
  },
  {
   "cell_type": "code",
   "execution_count": 6,
   "metadata": {},
   "outputs": [],
   "source": [
    "from mpl_toolkits.mplot3d import Axes3D\n",
    "xlin = np.arange(-1, 1, 0.01)\n",
    "ylin = np.arange(-1, 1, 0.01)\n",
    "X, Y = np.meshgrid(xlin, ylin)\n",
    "Z = (fin_theta[1,0]*X + fin_theta[2,0]*Y + fin_theta[3,0]*(X*Y)\n",
    "     + fin_theta[4,0]*(X*X) + fin_theta[5,0]*(Y*Y) + fin_theta[6,0]*(X*X*X)\n",
    "     + fin_theta[7,0]*(X*X*Y) + fin_theta[8,0]*(X*Y*Y) + fin_theta[9,0]*(Y*Y*Y)\n",
    "     + fin_theta[10,0]*(X*X*X*X) + fin_theta[11,0]*(X*X*X*Y) + fin_theta[12,0]*(X*X*Y*Y)\n",
    "     + fin_theta[13,0]*(X*Y*Y*Y) + fin_theta[14,0]*(Y*Y*Y*Y) + fin_theta[0,0])\n",
    "sigmoids = 1 / (1 + np.exp(-Z))\n",
    "#fig = plt.figure()\n",
    "#ax = Axes3D(fig)\n",
    "##ax.set_title(\"3D Surface Plot\")\n",
    "#ax.plot_surface(X, Y, sigmoids, rstride=1, cstride=1, cmap='coolwarm')\n",
    "#plt.show()"
   ]
  },
  {
   "cell_type": "code",
   "execution_count": 7,
   "metadata": {},
   "outputs": [],
   "source": [
    "#fig = plt.figure()\n",
    "#ax = Axes3D(fig)\n",
    "#ax.set_title(\"3D Surface Plot\")\n",
    "#ax.plot_surface(X, Y, sigmoids, rstride=5, cstride=5, alpha=0.3, color = 'blue', edgecolor='black')\n",
    "#ax.view_init(-30, 30)\n",
    "#plt.show()"
   ]
  },
  {
   "cell_type": "code",
   "execution_count": 8,
   "metadata": {},
   "outputs": [
    {
     "data": {
      "text/plain": [
       "<matplotlib.collections.PathCollection at 0x11b618a50>"
      ]
     },
     "execution_count": 8,
     "metadata": {},
     "output_type": "execute_result"
    },
    {
     "data": {
      "image/png": "[encoded data removed]",
      "text/plain": [
       "<Figure size 576x576 with 1 Axes>"
      ]
     },
     "metadata": {
      "needs_background": "light"
     },
     "output_type": "display_data"
    }
   ],
   "source": [
    "plt.figure(figsize=(8, 8))\n",
    "plt.contour(X,Y,sigmoids,levels = [0.5],colors='green')\n",
    "plt.scatter(pointX0, pointY0, c='b')\n",
    "plt.scatter(pointX1, pointY1, c='r')"
   ]
  },
  {
   "cell_type": "code",
   "execution_count": 9,
   "metadata": {},
   "outputs": [
    {
     "data": {
      "text/plain": [
       "(15, 1)"
      ]
     },
     "execution_count": 9,
     "metadata": {},
     "output_type": "execute_result"
    }
   ],
   "source": [
    "theta.shape"
   ]
  },
  {
   "cell_type": "code",
   "execution_count": 10,
   "metadata": {},
   "outputs": [
    {
     "data": {
      "text/plain": [
       "(15, 1)"
      ]
     },
     "execution_count": 10,
     "metadata": {},
     "output_type": "execute_result"
    }
   ],
   "source": [
    "(feature.dot((sigmoid-label).T)).shape"
   ]
  },
  {
   "cell_type": "code",
   "execution_count": 11,
   "metadata": {},
   "outputs": [],
   "source": [
    "df = (fin_theta.T).dot(feature)\n",
    "sg = 1 / (1 + np.exp(-df))\n",
    "for i in range(118):\n",
    "    if (sg[0,i]>=0.5):\n",
    "        sg[0,i]=1\n",
    "    else:\n",
    "        sg[0,i]=0"
   ]
  },
  {
   "cell_type": "code",
   "execution_count": 12,
   "metadata": {},
   "outputs": [
    {
     "data": {
      "text/plain": [
       "(1, 118)"
      ]
     },
     "execution_count": 12,
     "metadata": {},
     "output_type": "execute_result"
    }
   ],
   "source": [
    "label.shape"
   ]
  },
  {
   "cell_type": "code",
   "execution_count": 13,
   "metadata": {},
   "outputs": [
    {
     "data": {
      "text/plain": [
       "101"
      ]
     },
     "execution_count": 13,
     "metadata": {},
     "output_type": "execute_result"
    }
   ],
   "source": [
    "sum = 0\n",
    "for i in range(118):\n",
    "    if (sg[0,i]==label[0,i]):\n",
    "        sum +=1\n",
    "sum"
   ]
  },
  {
   "cell_type": "code",
   "execution_count": 14,
   "metadata": {},
   "outputs": [
    {
     "data": {
      "text/plain": [
       "0.8559322033898306"
      ]
     },
     "execution_count": 14,
     "metadata": {},
     "output_type": "execute_result"
    }
   ],
   "source": [
    "sum/118"
   ]
  },
  {
   "cell_type": "code",
   "execution_count": 15,
   "metadata": {},
   "outputs": [
    {
     "data": {
      "text/plain": [
       "array([[ 2.69702704],\n",
       "       [ 2.3418623 ],\n",
       "       [ 3.63289031],\n",
       "       [-3.62127644],\n",
       "       [-3.19030541],\n",
       "       [-2.43678899],\n",
       "       [-0.03340716],\n",
       "       [-2.37803892],\n",
       "       [-2.14444641],\n",
       "       [-1.52311237],\n",
       "       [-7.30548565],\n",
       "       [ 0.67129527],\n",
       "       [-3.09609916],\n",
       "       [-1.006066  ],\n",
       "       [-6.21031727]])"
      ]
     },
     "execution_count": 15,
     "metadata": {},
     "output_type": "execute_result"
    }
   ],
   "source": [
    "fin_theta"
   ]
  },
  {
   "cell_type": "code",
   "execution_count": null,
   "metadata": {},
   "outputs": [],
   "source": []
  }
 ],
 "metadata": {
  "kernelspec": {
   "display_name": "Python 3",
   "language": "python",
   "name": "python3"
  },
  "language_info": {
   "codemirror_mode": {
    "name": "ipython",
    "version": 3
   },
   "file_extension": ".py",
   "mimetype": "text/x-python",
   "name": "python",
   "nbconvert_exporter": "python",
   "pygments_lexer": "ipython3",
   "version": "3.7.4"
  }
 },
 "nbformat": 4,
 "nbformat_minor": 2
}
